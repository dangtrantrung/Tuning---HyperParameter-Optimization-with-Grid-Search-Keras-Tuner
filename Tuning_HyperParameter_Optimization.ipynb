{
  "metadata": {
    "kernelspec": {
      "language": "python",
      "display_name": "Python 3",
      "name": "python3"
    },
    "language_info": {
      "name": "python",
      "version": "3.10.13",
      "mimetype": "text/x-python",
      "codemirror_mode": {
        "name": "ipython",
        "version": 3
      },
      "pygments_lexer": "ipython3",
      "nbconvert_exporter": "python",
      "file_extension": ".py"
    },
    "kaggle": {
      "accelerator": "none",
      "dataSources": [
        {
          "sourceId": 7549271,
          "sourceType": "datasetVersion",
          "datasetId": 4396687
        }
      ],
      "dockerImageVersionId": 30646,
      "isInternetEnabled": false,
      "language": "python",
      "sourceType": "notebook",
      "isGpuEnabled": false
    },
    "colab": {
      "name": "Tuning - HyperParameter Optimization",
      "provenance": [],
      "include_colab_link": true
    }
  },
  "nbformat_minor": 0,
  "nbformat": 4,
  "cells": [
    {
      "cell_type": "markdown",
      "metadata": {
        "id": "view-in-github",
        "colab_type": "text"
      },
      "source": [
        "<a href=\"https://colab.research.google.com/github/dangtrantrung/Tuning---HyperParameter-Optimization-with-Grid-Search-Keras-Tuner/blob/master/Tuning_HyperParameter_Optimization.ipynb\" target=\"_parent\"><img src=\"https://colab.research.google.com/assets/colab-badge.svg\" alt=\"Open In Colab\"/></a>"
      ]
    },
    {
      "cell_type": "markdown",
      "source": [
        "# WorkFlow\n",
        "## 1. Load Data\n",
        "## 2. Build Hyper Model with Hyper Parameters\n",
        "## 3. Select Tuner/Grid Search\n",
        "## 4. Train Model with Data\n",
        "## 5. Build model with Best HP\n",
        "## 6. Tuning to get best HP"
      ],
      "metadata": {
        "id": "XRGKDCYpWatC"
      }
    },
    {
      "cell_type": "code",
      "source": [
        "import os\n",
        "os.environ[\"KERAS_BACKEND\"] = \"jax\"\n",
        "import keras"
      ],
      "metadata": {
        "id": "xE_haj_cXcnO"
      },
      "execution_count": 13,
      "outputs": []
    },
    {
      "cell_type": "code",
      "source": [
        "from tensorflow import keras\n",
        "\n",
        "from tensorflow.keras import Input, Model\n",
        "from tensorflow.keras.layers import Dense, Flatten, Convolution2D, BatchNormalization\n",
        "from tensorflow.keras.layers import ReLU, MaxPool2D, AvgPool2D, GlobalAvgPool2D\n",
        "from tensorflow.keras.optimizers import Adam\n",
        "from tensorflow.keras.utils import plot_model\n",
        "from sklearn.model_selection import train_test_split"
      ],
      "metadata": {
        "execution": {
          "iopub.status.busy": "2024-02-04T04:11:37.826499Z",
          "iopub.execute_input": "2024-02-04T04:11:37.827622Z",
          "iopub.status.idle": "2024-02-04T04:11:37.835194Z",
          "shell.execute_reply.started": "2024-02-04T04:11:37.827577Z",
          "shell.execute_reply": "2024-02-04T04:11:37.834055Z"
        },
        "trusted": true,
        "id": "5BRwoy2vWat9"
      },
      "execution_count": 15,
      "outputs": []
    },
    {
      "cell_type": "code",
      "source": [
        "# import data\n",
        "\n",
        "(img_train,label_train),(img_test, label_test) = keras.datasets.fashion_mnist.load_data()\n",
        "# Normalize\n",
        "img_train=img_train.astype('float32')/255\n",
        "img_test=img_test.astype('float32')/255"
      ],
      "metadata": {
        "execution": {
          "iopub.status.busy": "2024-02-04T04:11:37.839857Z",
          "iopub.execute_input": "2024-02-04T04:11:37.840229Z",
          "iopub.status.idle": "2024-02-04T04:11:58.135509Z",
          "shell.execute_reply.started": "2024-02-04T04:11:37.840201Z",
          "shell.execute_reply": "2024-02-04T04:11:58.133621Z"
        },
        "trusted": true,
        "colab": {
          "base_uri": "https://localhost:8080/"
        },
        "id": "RAS8HD1sWauB",
        "outputId": "485e4738-057e-4797-ba27-ccf5152e59d2"
      },
      "execution_count": 3,
      "outputs": [
        {
          "output_type": "stream",
          "name": "stdout",
          "text": [
            "Downloading data from https://storage.googleapis.com/tensorflow/tf-keras-datasets/train-labels-idx1-ubyte.gz\n",
            "29515/29515 [==============================] - 0s 0us/step\n",
            "Downloading data from https://storage.googleapis.com/tensorflow/tf-keras-datasets/train-images-idx3-ubyte.gz\n",
            "26421880/26421880 [==============================] - 0s 0us/step\n",
            "Downloading data from https://storage.googleapis.com/tensorflow/tf-keras-datasets/t10k-labels-idx1-ubyte.gz\n",
            "5148/5148 [==============================] - 0s 0us/step\n",
            "Downloading data from https://storage.googleapis.com/tensorflow/tf-keras-datasets/t10k-images-idx3-ubyte.gz\n",
            "4422102/4422102 [==============================] - 0s 0us/step\n"
          ]
        }
      ]
    },
    {
      "cell_type": "code",
      "source": [
        "label_train[8]"
      ],
      "metadata": {
        "execution": {
          "iopub.status.busy": "2024-02-04T04:11:58.136493Z",
          "iopub.status.idle": "2024-02-04T04:11:58.13692Z",
          "shell.execute_reply.started": "2024-02-04T04:11:58.136713Z",
          "shell.execute_reply": "2024-02-04T04:11:58.13673Z"
        },
        "trusted": true,
        "colab": {
          "base_uri": "https://localhost:8080/"
        },
        "id": "f7A_j4xJWauE",
        "outputId": "82b5e9a0-757a-4bfe-d5e2-1e888354b362"
      },
      "execution_count": 5,
      "outputs": [
        {
          "output_type": "execute_result",
          "data": {
            "text/plain": [
              "5"
            ]
          },
          "metadata": {},
          "execution_count": 5
        }
      ]
    }
  ]
}