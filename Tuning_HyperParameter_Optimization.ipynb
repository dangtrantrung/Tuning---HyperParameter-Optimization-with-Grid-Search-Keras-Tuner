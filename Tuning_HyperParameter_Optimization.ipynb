{
  "metadata": {
    "kernelspec": {
      "display_name": "Python 3",
      "name": "python3"
    },
    "language_info": {
      "name": "python",
      "version": "3.10.13",
      "mimetype": "text/x-python",
      "codemirror_mode": {
        "name": "ipython",
        "version": 3
      },
      "pygments_lexer": "ipython3",
      "nbconvert_exporter": "python",
      "file_extension": ".py"
    },
    "kaggle": {
      "accelerator": "none",
      "dataSources": [
        {
          "sourceId": 7549271,
          "sourceType": "datasetVersion",
          "datasetId": 4396687
        }
      ],
      "dockerImageVersionId": 30646,
      "isInternetEnabled": false,
      "language": "python",
      "sourceType": "notebook",
      "isGpuEnabled": false
    },
    "colab": {
      "name": "Tuning - HyperParameter Optimization",
      "provenance": [],
      "gpuType": "T4",
      "include_colab_link": true
    },
    "accelerator": "GPU"
  },
  "nbformat_minor": 0,
  "nbformat": 4,
  "cells": [
    {
      "cell_type": "markdown",
      "metadata": {
        "id": "view-in-github",
        "colab_type": "text"
      },
      "source": [
        "<a href=\"https://colab.research.google.com/github/dangtrantrung/Tuning---HyperParameter-Optimization-with-Grid-Search-Keras-Tuner/blob/master/Tuning_HyperParameter_Optimization.ipynb\" target=\"_parent\"><img src=\"https://colab.research.google.com/assets/colab-badge.svg\" alt=\"Open In Colab\"/></a>"
      ]
    },
    {
      "cell_type": "markdown",
      "source": [
        "# WorkFlow\n",
        "## 1. Load Data\n",
        "## 2. Build Hyper Model with Hyper Parameters\n",
        "## 3. Select Tuner/Grid Search\n",
        "## 4. Train Model with Data\n",
        "## 5. Build model with Best HP\n",
        "## 6. Tuning to get best HP"
      ],
      "metadata": {
        "id": "XRGKDCYpWatC"
      }
    },
    {
      "cell_type": "code",
      "source": [
        "\n",
        "!pip install keras_tuner"
      ],
      "metadata": {
        "colab": {
          "base_uri": "https://localhost:8080/"
        },
        "id": "xE_haj_cXcnO",
        "outputId": "bcb3d739-eabd-4e25-ea48-8cf0f8749cf0"
      },
      "execution_count": 1,
      "outputs": [
        {
          "output_type": "stream",
          "name": "stdout",
          "text": [
            "Collecting keras_tuner\n",
            "  Downloading keras_tuner-1.4.6-py3-none-any.whl (128 kB)\n",
            "\u001b[?25l     \u001b[90m━━━━━━━━━━━━━━━━━━━━━━━━━━━━━━━━━━━━━━━━\u001b[0m \u001b[32m0.0/128.9 kB\u001b[0m \u001b[31m?\u001b[0m eta \u001b[36m-:--:--\u001b[0m\r\u001b[2K     \u001b[90m━━━━━━━━━━━━━━━━━━━━━━━━━━━━━━━━━━━━━━━━\u001b[0m \u001b[32m128.9/128.9 kB\u001b[0m \u001b[31m4.2 MB/s\u001b[0m eta \u001b[36m0:00:00\u001b[0m\n",
            "\u001b[?25hRequirement already satisfied: keras in /usr/local/lib/python3.10/dist-packages (from keras_tuner) (2.15.0)\n",
            "Requirement already satisfied: packaging in /usr/local/lib/python3.10/dist-packages (from keras_tuner) (23.2)\n",
            "Requirement already satisfied: requests in /usr/local/lib/python3.10/dist-packages (from keras_tuner) (2.31.0)\n",
            "Collecting kt-legacy (from keras_tuner)\n",
            "  Downloading kt_legacy-1.0.5-py3-none-any.whl (9.6 kB)\n",
            "Requirement already satisfied: charset-normalizer<4,>=2 in /usr/local/lib/python3.10/dist-packages (from requests->keras_tuner) (3.3.2)\n",
            "Requirement already satisfied: idna<4,>=2.5 in /usr/local/lib/python3.10/dist-packages (from requests->keras_tuner) (3.6)\n",
            "Requirement already satisfied: urllib3<3,>=1.21.1 in /usr/local/lib/python3.10/dist-packages (from requests->keras_tuner) (2.0.7)\n",
            "Requirement already satisfied: certifi>=2017.4.17 in /usr/local/lib/python3.10/dist-packages (from requests->keras_tuner) (2023.11.17)\n",
            "Installing collected packages: kt-legacy, keras_tuner\n",
            "Successfully installed keras_tuner-1.4.6 kt-legacy-1.0.5\n"
          ]
        }
      ]
    },
    {
      "cell_type": "code",
      "source": [
        "\n",
        "import keras_tuner as kt\n",
        "import tensorflow as tf\n",
        "from tensorflow import keras\n",
        "\n",
        "from sklearn.model_selection import train_test_split"
      ],
      "metadata": {
        "execution": {
          "iopub.status.busy": "2024-02-04T04:11:37.826499Z",
          "iopub.execute_input": "2024-02-04T04:11:37.827622Z",
          "iopub.status.idle": "2024-02-04T04:11:37.835194Z",
          "shell.execute_reply.started": "2024-02-04T04:11:37.827577Z",
          "shell.execute_reply": "2024-02-04T04:11:37.834055Z"
        },
        "trusted": true,
        "id": "5BRwoy2vWat9"
      },
      "execution_count": 2,
      "outputs": []
    },
    {
      "cell_type": "code",
      "source": [
        "# import data\n",
        "\n",
        "(img_train,label_train),(img_test, label_test) = keras.datasets.fashion_mnist.load_data()\n",
        "# Normalize\n",
        "img_train=img_train.astype('float32')/255\n",
        "img_test=img_test.astype('float32')/255"
      ],
      "metadata": {
        "execution": {
          "iopub.status.busy": "2024-02-04T04:11:37.839857Z",
          "iopub.execute_input": "2024-02-04T04:11:37.840229Z",
          "iopub.status.idle": "2024-02-04T04:11:58.135509Z",
          "shell.execute_reply.started": "2024-02-04T04:11:37.840201Z",
          "shell.execute_reply": "2024-02-04T04:11:58.133621Z"
        },
        "trusted": true,
        "id": "RAS8HD1sWauB",
        "colab": {
          "base_uri": "https://localhost:8080/"
        },
        "outputId": "3b205755-b92f-4203-d2a4-31d092c1e425"
      },
      "execution_count": 3,
      "outputs": [
        {
          "output_type": "stream",
          "name": "stdout",
          "text": [
            "Downloading data from https://storage.googleapis.com/tensorflow/tf-keras-datasets/train-labels-idx1-ubyte.gz\n",
            "29515/29515 [==============================] - 0s 0us/step\n",
            "Downloading data from https://storage.googleapis.com/tensorflow/tf-keras-datasets/train-images-idx3-ubyte.gz\n",
            "26421880/26421880 [==============================] - 0s 0us/step\n",
            "Downloading data from https://storage.googleapis.com/tensorflow/tf-keras-datasets/t10k-labels-idx1-ubyte.gz\n",
            "5148/5148 [==============================] - 0s 0us/step\n",
            "Downloading data from https://storage.googleapis.com/tensorflow/tf-keras-datasets/t10k-images-idx3-ubyte.gz\n",
            "4422102/4422102 [==============================] - 0s 0us/step\n"
          ]
        }
      ]
    },
    {
      "cell_type": "code",
      "source": [
        "label_train[8]"
      ],
      "metadata": {
        "execution": {
          "iopub.status.busy": "2024-02-04T04:11:58.136493Z",
          "iopub.status.idle": "2024-02-04T04:11:58.13692Z",
          "shell.execute_reply.started": "2024-02-04T04:11:58.136713Z",
          "shell.execute_reply": "2024-02-04T04:11:58.13673Z"
        },
        "trusted": true,
        "colab": {
          "base_uri": "https://localhost:8080/"
        },
        "id": "f7A_j4xJWauE",
        "outputId": "612be485-4b5d-4b83-8edd-4da65df3a375"
      },
      "execution_count": 4,
      "outputs": [
        {
          "output_type": "execute_result",
          "data": {
            "text/plain": [
              "5"
            ]
          },
          "metadata": {},
          "execution_count": 4
        }
      ]
    },
    {
      "cell_type": "code",
      "source": [
        "# build Model HP\n",
        "def model_builder(hp):\n",
        "  model = tf.keras.Sequential()\n",
        "  model.add(keras.layers.Flatten(input_shape=(28,28)))\n",
        "  X = hp.Int(\"units\", min_value=32, max_value=512, step=32)\n",
        "  model.add(keras.layers.Dense(units=X, activation=\"relu\"))\n",
        "  model.add(keras.layers.Dense(10))\n",
        "\n",
        "  lr = hp.Choice(\"lr\",values=[1e-2,1e-3,1e-4])\n",
        "\n",
        "  model.compile(optimizer=keras.optimizers.Adam(learning_rate=lr), loss = tf.keras.losses.SparseCategoricalCrossentropy(from_logits=True), metrics=[\"accuracy\"])\n",
        "  return model\n",
        "\n"
      ],
      "metadata": {
        "id": "1sfYjV3Vihgx"
      },
      "execution_count": 5,
      "outputs": []
    },
    {
      "cell_type": "code",
      "source": [
        "!rm rf /content/tuner_dir_01\n",
        "tuner = kt.Hyperband (model_builder, objective=\"val_accuracy\", directory=\"tuner_dir_01\", project_name=\"Demo_Tuner_01\")\n",
        "\n",
        "# Keras Callbacks - Early Stop\n",
        "stop_early = keras.callbacks.EarlyStopping(monitor=\"val_loss\", patience=5)\n",
        "\n"
      ],
      "metadata": {
        "id": "atR4vxS_mKS_",
        "outputId": "231a0506-4b5e-42ab-f667-69dc1160c0c5",
        "colab": {
          "base_uri": "https://localhost:8080/"
        }
      },
      "execution_count": 6,
      "outputs": [
        {
          "output_type": "stream",
          "name": "stdout",
          "text": [
            "rm: cannot remove 'rf': No such file or directory\n",
            "rm: cannot remove '/content/tuner_dir_01': No such file or directory\n"
          ]
        }
      ]
    },
    {
      "cell_type": "code",
      "source": [],
      "metadata": {
        "id": "wa6ACSuamC20"
      },
      "execution_count": 6,
      "outputs": []
    },
    {
      "cell_type": "code",
      "source": [
        "tuner.search( img_train, label_train, validation_split=0.2, callbacks=[stop_early])\n"
      ],
      "metadata": {
        "id": "aySPhfp4muXr",
        "outputId": "08aa6d15-1048-43d5-e2be-78d41fd359af",
        "colab": {
          "base_uri": "https://localhost:8080/"
        }
      },
      "execution_count": 7,
      "outputs": [
        {
          "output_type": "stream",
          "name": "stdout",
          "text": [
            "Trial 47 Complete [00h 00m 12s]\n",
            "val_accuracy: 0.8535833358764648\n",
            "\n",
            "Best val_accuracy So Far: 0.8723333477973938\n",
            "Total elapsed time: 00h 10m 44s\n"
          ]
        }
      ]
    },
    {
      "cell_type": "code",
      "source": [
        "best_hps = tuner.get_best_hyperparameters()[0]\n",
        "\n",
        "print(\"Best units = \",best_hps.get('units'),\"optimal learning rate = \", best_hps.get('lr'))"
      ],
      "metadata": {
        "colab": {
          "base_uri": "https://localhost:8080/"
        },
        "id": "ncsfTftl7NbM",
        "outputId": "e610cb6d-253f-4e56-fc1a-45dd774f6935"
      },
      "execution_count": 8,
      "outputs": [
        {
          "output_type": "stream",
          "name": "stdout",
          "text": [
            "Best units =  416 optimal learning rate =  0.001\n"
          ]
        }
      ]
    },
    {
      "cell_type": "code",
      "source": [
        "# build Model from best HP\n",
        "best_model=tuner.hypermodel.build(best_hps)\n",
        "best_model.fit(img_train,label_train,epochs=20,validation_split=0.2)\n",
        "best_model.save('model.h5')"
      ],
      "metadata": {
        "id": "SI_LjxN2AWKG",
        "outputId": "f8d60d68-3887-45f4-b3e3-d93b5cd1ae13",
        "colab": {
          "base_uri": "https://localhost:8080/"
        }
      },
      "execution_count": 9,
      "outputs": [
        {
          "output_type": "stream",
          "name": "stdout",
          "text": [
            "Epoch 1/20\n",
            "1500/1500 [==============================] - 6s 3ms/step - loss: 0.4960 - accuracy: 0.8240 - val_loss: 0.3934 - val_accuracy: 0.8584\n",
            "Epoch 2/20\n",
            "1500/1500 [==============================] - 4s 3ms/step - loss: 0.3705 - accuracy: 0.8645 - val_loss: 0.3793 - val_accuracy: 0.8637\n",
            "Epoch 3/20\n",
            "1500/1500 [==============================] - 4s 3ms/step - loss: 0.3308 - accuracy: 0.8785 - val_loss: 0.3659 - val_accuracy: 0.8692\n",
            "Epoch 4/20\n",
            "1500/1500 [==============================] - 5s 3ms/step - loss: 0.3045 - accuracy: 0.8864 - val_loss: 0.3538 - val_accuracy: 0.8669\n",
            "Epoch 5/20\n",
            "1500/1500 [==============================] - 4s 3ms/step - loss: 0.2867 - accuracy: 0.8930 - val_loss: 0.3452 - val_accuracy: 0.8727\n",
            "Epoch 6/20\n",
            "1500/1500 [==============================] - 5s 3ms/step - loss: 0.2706 - accuracy: 0.9004 - val_loss: 0.3115 - val_accuracy: 0.8883\n",
            "Epoch 7/20\n",
            "1500/1500 [==============================] - 4s 3ms/step - loss: 0.2554 - accuracy: 0.9047 - val_loss: 0.3083 - val_accuracy: 0.8879\n",
            "Epoch 8/20\n",
            "1500/1500 [==============================] - 4s 3ms/step - loss: 0.2453 - accuracy: 0.9080 - val_loss: 0.3127 - val_accuracy: 0.8832\n",
            "Epoch 9/20\n",
            "1500/1500 [==============================] - 5s 3ms/step - loss: 0.2356 - accuracy: 0.9107 - val_loss: 0.3230 - val_accuracy: 0.8851\n",
            "Epoch 10/20\n",
            "1500/1500 [==============================] - 4s 3ms/step - loss: 0.2241 - accuracy: 0.9166 - val_loss: 0.3181 - val_accuracy: 0.8892\n",
            "Epoch 11/20\n",
            "1500/1500 [==============================] - 5s 3ms/step - loss: 0.2148 - accuracy: 0.9197 - val_loss: 0.3230 - val_accuracy: 0.8857\n",
            "Epoch 12/20\n",
            "1500/1500 [==============================] - 5s 3ms/step - loss: 0.2072 - accuracy: 0.9220 - val_loss: 0.3199 - val_accuracy: 0.8885\n",
            "Epoch 13/20\n",
            "1500/1500 [==============================] - 4s 3ms/step - loss: 0.2003 - accuracy: 0.9244 - val_loss: 0.3534 - val_accuracy: 0.8765\n",
            "Epoch 14/20\n",
            "1500/1500 [==============================] - 5s 3ms/step - loss: 0.1895 - accuracy: 0.9296 - val_loss: 0.3692 - val_accuracy: 0.8832\n",
            "Epoch 15/20\n",
            "1500/1500 [==============================] - 4s 3ms/step - loss: 0.1850 - accuracy: 0.9319 - val_loss: 0.3143 - val_accuracy: 0.8964\n",
            "Epoch 16/20\n",
            "1500/1500 [==============================] - 4s 3ms/step - loss: 0.1800 - accuracy: 0.9327 - val_loss: 0.3382 - val_accuracy: 0.8907\n",
            "Epoch 17/20\n",
            "1500/1500 [==============================] - 5s 3ms/step - loss: 0.1735 - accuracy: 0.9341 - val_loss: 0.3487 - val_accuracy: 0.8899\n",
            "Epoch 18/20\n",
            "1500/1500 [==============================] - 4s 3ms/step - loss: 0.1682 - accuracy: 0.9348 - val_loss: 0.3247 - val_accuracy: 0.8949\n",
            "Epoch 19/20\n",
            "1500/1500 [==============================] - 5s 3ms/step - loss: 0.1621 - accuracy: 0.9386 - val_loss: 0.3320 - val_accuracy: 0.8978\n",
            "Epoch 20/20\n",
            "1500/1500 [==============================] - 4s 3ms/step - loss: 0.1574 - accuracy: 0.9410 - val_loss: 0.3456 - val_accuracy: 0.8934\n"
          ]
        },
        {
          "output_type": "stream",
          "name": "stderr",
          "text": [
            "/usr/local/lib/python3.10/dist-packages/keras/src/engine/training.py:3103: UserWarning: You are saving your model as an HDF5 file via `model.save()`. This file format is considered legacy. We recommend using instead the native Keras format, e.g. `model.save('my_model.keras')`.\n",
            "  saving_api.save_model(\n"
          ]
        }
      ]
    },
    {
      "cell_type": "code",
      "source": [
        "# get best model from tuner\n",
        "best_model=tuner.get_best_models()[0]\n",
        "best_model.build(img_train.shape)\n",
        "best_model.summary()"
      ],
      "metadata": {
        "id": "SnytJewxTHud",
        "outputId": "dfed4dae-1368-4b4f-deb6-dee9f6f3ff02",
        "colab": {
          "base_uri": "https://localhost:8080/"
        }
      },
      "execution_count": 11,
      "outputs": [
        {
          "output_type": "stream",
          "name": "stdout",
          "text": [
            "Model: \"sequential\"\n",
            "_________________________________________________________________\n",
            " Layer (type)                Output Shape              Param #   \n",
            "=================================================================\n",
            " flatten (Flatten)           (None, 784)               0         \n",
            "                                                                 \n",
            " dense (Dense)               (None, 416)               326560    \n",
            "                                                                 \n",
            " dense_1 (Dense)             (None, 10)                4170      \n",
            "                                                                 \n",
            "=================================================================\n",
            "Total params: 330730 (1.26 MB)\n",
            "Trainable params: 330730 (1.26 MB)\n",
            "Non-trainable params: 0 (0.00 Byte)\n",
            "_________________________________________________________________\n"
          ]
        }
      ]
    },
    {
      "cell_type": "code",
      "source": [
        "# 2. More Complex Networks\n",
        "def model_builder(hp):\n",
        "\n",
        "  model = tf.keras.Sequential()\n",
        "  model.add(keras.layers.Flatten(input_shape=(28,28)))\n",
        "  X1 = hp.Int(\"unit1\", min_value=32, max_value=512, step=32)\n",
        "  X2 = hp.Int(\"unit2\", min_value=32, max_value=1024, step=32)\n",
        "  X3 = hp.Int(\"unit3\", min_value=32, max_value=256, step=32)\n",
        "  Y = hp.Float(\"dr_value\", min_value=0.2, max_value=0.3, step=0.05) #0.2-0.3\n",
        "\n",
        "  model.add(keras.layers.Dense(units=X1, activation=\"relu\"))\n",
        "  model.add(keras.layers.Dense(units=X2, activation=\"relu\"))\n",
        "  model.add(keras.layers.Dropout(Y))\n",
        "  model.add(keras.layers.Dense(units=X3, activation=\"relu\"))\n",
        "  model.add(keras.layers.Dense(10))\n",
        "\n",
        "  lr = 0.001\n",
        "\n",
        "  model.compile(optimizer=keras.optimizers.Adam(learning_rate=lr), loss = tf.keras.losses.SparseCategoricalCrossentropy(from_logits=True), metrics=[\"accuracy\"])\n",
        "  return model"
      ],
      "metadata": {
        "id": "IObgKwplXAhs"
      },
      "execution_count": 12,
      "outputs": []
    },
    {
      "cell_type": "markdown",
      "source": [
        "# GridSearch with SVM"
      ],
      "metadata": {
        "id": "duQrGkEsXvtN"
      }
    },
    {
      "cell_type": "code",
      "source": [
        "import pandas as pd\n",
        "import numpy as np\n",
        "from sklearn.metrics import classification_report, confusion_matrix\n",
        "from sklearn.datasets import load_breast_cancer\n",
        "from sklearn.svm import SVC\n"
      ],
      "metadata": {
        "id": "0ymoN2d-XzI_"
      },
      "execution_count": 14,
      "outputs": []
    },
    {
      "cell_type": "code",
      "source": [],
      "metadata": {
        "id": "OjVXDBznX1f4"
      },
      "execution_count": null,
      "outputs": []
    }
  ]
}