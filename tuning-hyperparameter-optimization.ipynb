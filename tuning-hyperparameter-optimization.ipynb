{
 "cells": [
  {
   "cell_type": "raw",
   "id": "4db66d2c",
   "metadata": {
    "_cell_guid": "b1076dfc-b9ad-4769-8c92-a6c4dae69d19",
    "_uuid": "8f2839f25d086af736a60e9eeb907d3b93b6e0e5",
    "papermill": {
     "duration": 0.003059,
     "end_time": "2024-02-04T03:26:46.393388",
     "exception": false,
     "start_time": "2024-02-04T03:26:46.390329",
     "status": "completed"
    },
    "tags": []
   },
   "source": [
    "# This Python 3 environment comes with many helpful analytics libraries installed\n",
    "# It is defined by the kaggle/python Docker image: https://github.com/kaggle/docker-python\n",
    "# For example, here's several helpful packages to load\n",
    "\n",
    "import numpy as np # linear algebra\n",
    "import pandas as pd # data processing, CSV file I/O (e.g. pd.read_csv)\n",
    "\n",
    "# Input data files are available in the read-only \"../input/\" directory\n",
    "# For example, running this (by clicking run or pressing Shift+Enter) will list all files under the input directory\n",
    "\n",
    "import os\n",
    "for dirname, _, filenames in os.walk('/kaggle/input'):\n",
    "    for filename in filenames:\n",
    "        print(os.path.join(dirname, filename))\n",
    "\n",
    "# You can write up to 20GB to the current directory (/kaggle/working/) that gets preserved as output when you create a version using \"Save & Run All\" \n",
    "# You can also write temporary files to /kaggle/temp/, but they won't be saved outside of the current session"
   ]
  },
  {
   "cell_type": "markdown",
   "id": "dfc22176",
   "metadata": {
    "papermill": {
     "duration": 0.002599,
     "end_time": "2024-02-04T03:26:46.398636",
     "exception": false,
     "start_time": "2024-02-04T03:26:46.396037",
     "status": "completed"
    },
    "tags": []
   },
   "source": [
    "# WorkFlow\n",
    "## 1. Load Data\n",
    "## 2. Build Hyper Model with Hyper Parameters\n",
    "## 3. Select Tuner/Grid Search\n",
    "## 4. Train Model with Data\n",
    "## 5. Build model with Best HP\n",
    "## 6. Tuning to get best HP"
   ]
  },
  {
   "cell_type": "code",
   "execution_count": 1,
   "id": "fe53e017",
   "metadata": {
    "execution": {
     "iopub.execute_input": "2024-02-04T03:26:46.405295Z",
     "iopub.status.busy": "2024-02-04T03:26:46.404837Z",
     "iopub.status.idle": "2024-02-04T03:26:46.423530Z",
     "shell.execute_reply": "2024-02-04T03:26:46.422327Z"
    },
    "papermill": {
     "duration": 0.02468,
     "end_time": "2024-02-04T03:26:46.425818",
     "exception": false,
     "start_time": "2024-02-04T03:26:46.401138",
     "status": "completed"
    },
    "tags": []
   },
   "outputs": [
    {
     "name": "stdout",
     "output_type": "stream",
     "text": [
      "/kaggle/input/test11/test.csv\n"
     ]
    }
   ],
   "source": [
    "import os\n",
    "for dirname, _, filenames in os.walk('/kaggle/input'):\n",
    "    for filename in filenames:\n",
    "        print(os.path.join(dirname, filename))"
   ]
  },
  {
   "cell_type": "markdown",
   "id": "3cb632ac",
   "metadata": {
    "papermill": {
     "duration": 0.002436,
     "end_time": "2024-02-04T03:26:46.431035",
     "exception": false,
     "start_time": "2024-02-04T03:26:46.428599",
     "status": "completed"
    },
    "tags": []
   },
   "source": []
  },
  {
   "cell_type": "code",
   "execution_count": null,
   "id": "24e4beea",
   "metadata": {
    "papermill": {
     "duration": 0.002274,
     "end_time": "2024-02-04T03:26:46.435839",
     "exception": false,
     "start_time": "2024-02-04T03:26:46.433565",
     "status": "completed"
    },
    "tags": []
   },
   "outputs": [],
   "source": []
  }
 ],
 "metadata": {
  "kaggle": {
   "accelerator": "none",
   "dataSources": [
    {
     "datasetId": 4396687,
     "sourceId": 7549271,
     "sourceType": "datasetVersion"
    }
   ],
   "dockerImageVersionId": 30646,
   "isGpuEnabled": false,
   "isInternetEnabled": false,
   "language": "python",
   "sourceType": "notebook"
  },
  "kernelspec": {
   "display_name": "Python 3",
   "language": "python",
   "name": "python3"
  },
  "language_info": {
   "codemirror_mode": {
    "name": "ipython",
    "version": 3
   },
   "file_extension": ".py",
   "mimetype": "text/x-python",
   "name": "python",
   "nbconvert_exporter": "python",
   "pygments_lexer": "ipython3",
   "version": "3.10.13"
  },
  "papermill": {
   "default_parameters": {},
   "duration": 3.86975,
   "end_time": "2024-02-04T03:26:46.760049",
   "environment_variables": {},
   "exception": null,
   "input_path": "__notebook__.ipynb",
   "output_path": "__notebook__.ipynb",
   "parameters": {},
   "start_time": "2024-02-04T03:26:42.890299",
   "version": "2.5.0"
  }
 },
 "nbformat": 4,
 "nbformat_minor": 5
}
